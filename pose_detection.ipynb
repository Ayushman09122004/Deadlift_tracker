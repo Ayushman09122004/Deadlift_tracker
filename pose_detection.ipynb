{
 "cells": [
  {
   "cell_type": "code",
   "execution_count": 1,
   "id": "8076287a-7dc9-4e84-9cde-2e0d68076ca1",
   "metadata": {},
   "outputs": [],
   "source": [
    "import pandas \n",
    "import tensorflow  as tf\n",
    "import matplotlib.pyplot as plt \n",
    "import numpy as np"
   ]
  },
  {
   "cell_type": "code",
   "execution_count": 13,
   "id": "5fb0acd0-a690-49b8-a133-e22867ba0410",
   "metadata": {},
   "outputs": [],
   "source": [
    "paths=r\"C:\\Users\\godof\\OneDrive\\Desktop\\summer\\pose detection\\3.tflite\"\n",
    "interpreter=tf.lite.Interpreter(model_path=paths)\n",
    "interpreter.allocate_tensors()"
   ]
  },
  {
   "cell_type": "code",
   "execution_count": 3,
   "id": "63bf33bd-02b0-4ff8-b4e1-2a6b7fc93f0a",
   "metadata": {},
   "outputs": [],
   "source": [
    "def drawkeypoint(frame,keypoints,confidence_thresh):\n",
    "    y,x,c=frame.shape\n",
    "    shaped=np.squeeze(np.multiply(keypoints,[y,x,1]))\n",
    "    for i in shaped:\n",
    "        y_cordinate,x_cordinate,conf= i\n",
    "        if conf>confidence_thresh:\n",
    "            cv2.circle(frame,(int(x_cordinate),int(y_cordinate)),4,(0,255,0),-3)\n",
    "                #4,(0,255,0),-1 tells how big the circle is and which colour"
   ]
  },
  {
   "cell_type": "code",
   "execution_count": 4,
   "id": "74b3166d-fc3b-4122-a30f-f5813ecbbe11",
   "metadata": {},
   "outputs": [],
   "source": [
    "def drawedges(frame,keypoints,edges,confidence_thresh):\n",
    "    y,x,c=frame.shape\n",
    "    shaped=np.squeeze(np.multiply(keypoints,[y,x,1]))\n",
    "\n",
    "    for edge,color in edges.items():\n",
    "        p1,p2=edge\n",
    "        y1,x1,c1=shaped[p1]\n",
    "        y2,x2,c2=shaped[p2]\n",
    "        if (c1>confidence_thresh) &(c2>confidence_thresh):\n",
    "                cv2.line(frame, (int(x1), int(y1)), (int(x2), int(y2)), (0,0,255), 2)\n",
    "EDGES = {\n",
    "    (0, 1): 'm',\n",
    "    (0, 2): 'c',\n",
    "    (1, 3): 'm',\n",
    "    (2, 4): 'c',\n",
    "    (0, 5): 'm',\n",
    "    (0, 6): 'c',\n",
    "    (5, 7): 'm',\n",
    "    (7, 9): 'm',\n",
    "    (6, 8): 'c',\n",
    "    (8, 10): 'c',\n",
    "    (5, 6): 'y',\n",
    "    (5, 11): 'm',\n",
    "    (6, 12): 'c',\n",
    "    (11, 12): 'y',\n",
    "    (11, 13): 'm',\n",
    "    (13, 15): 'm',\n",
    "    (12, 14): 'c',\n",
    "    (14, 16): 'c'\n",
    "}"
   ]
  },
  {
   "cell_type": "code",
   "execution_count": 5,
   "id": "51aea012-566d-481a-92e1-babbae34bbb4",
   "metadata": {},
   "outputs": [],
   "source": [
    "import cv2\n",
    "cap=cv2.VideoCapture(\"novak.mp4\")\n",
    "while True:\n",
    "    ret,frame=cap.read()\n",
    "    \n",
    "    img=frame.copy()\n",
    "    img=tf.image.resize_with_pad(np.expand_dims(img,axis=0),192,192)\n",
    "    img=tf.cast(img,dtype=np.float32)#np.squeeze is a function in NumPy that removes single-dimensional entries from the shape of an array. \n",
    "\n",
    "    input=interpreter.get_input_details()\n",
    "    output=interpreter.get_output_details()\n",
    "\n",
    "    interpreter.set_tensor(input[0]['index'],np.array(img))\n",
    "    interpreter.invoke()\n",
    "    keypints_with_score=interpreter.get_tensor(output[0]['index'])\n",
    "\n",
    "    \n",
    "    drawkeypoint(frame,keypints_with_score,0.4)\n",
    "    drawedges(frame,keypints_with_score,EDGES,0.4)\n",
    "    \n",
    "    \n",
    "    cv2.imshow('Web Cam',frame)\n",
    "    if cv2.waitKey(1)& 0xFF==ord('q'):\n",
    "        break\n",
    "cap.release()\n",
    "cv2.destroyAllWindows()"
   ]
  },
  {
   "cell_type": "code",
   "execution_count": null,
   "id": "41a5c75c-56a2-48bc-8273-67c0a6ea7afb",
   "metadata": {},
   "outputs": [],
   "source": []
  }
 ],
 "metadata": {
  "kernelspec": {
   "display_name": "Python 3 (ipykernel)",
   "language": "python",
   "name": "python3"
  },
  "language_info": {
   "codemirror_mode": {
    "name": "ipython",
    "version": 3
   },
   "file_extension": ".py",
   "mimetype": "text/x-python",
   "name": "python",
   "nbconvert_exporter": "python",
   "pygments_lexer": "ipython3",
   "version": "3.11.7"
  }
 },
 "nbformat": 4,
 "nbformat_minor": 5
}
